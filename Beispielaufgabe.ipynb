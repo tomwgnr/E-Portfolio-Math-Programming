{
 "cells": [
  {
   "cell_type": "markdown",
   "id": "16f5b541",
   "metadata": {},
   "source": [
    "# Beispielaufgabe"
   ]
  },
  {
   "cell_type": "markdown",
   "id": "a819d779",
   "metadata": {},
   "source": [
    "### Fabrik hat 7 Produkte für welche folgende Maschinen Verwendet werden:"
   ]
  },
  {
   "cell_type": "markdown",
   "id": "bbfc1700",
   "metadata": {},
   "source": [
    "- 4 Schleifer\n",
    "- 2 Vertikale Bohrer\n",
    "- 3 horizontale Bohrer\n",
    "- 1 Fräse\n",
    "- 1 Hobel"
   ]
  },
  {
   "cell_type": "markdown",
   "id": "8478afea",
   "metadata": {},
   "source": [
    "**Gewinn: Preis - Materialkosten**\n",
    "\n",
    "**Maschinen: Arbeitszeit (in h)**"
   ]
  },
  {
   "cell_type": "markdown",
   "id": "b4bfd4ac",
   "metadata": {},
   "source": [
    "|            | Prod1 | Prod2 | Prod3 | Prod4 | Prod5 | Prod7 | Prod7\n",
    "|-----------:|:-----|:------|:------|:------|:------|:------|:------|\n",
    "Gewinn | 10 | 6 | 8 | 4 | 11 | 9 | 3 |\n",
    "Schleifen | 0.5 | 0.7 | - | - | 0.3 | 0.2 | 0.5 |\n",
    "vertikal bohren | 0.1 | 0.2 | - | 0.3 | - | 0.6 | - |\n",
    "horizontal bohren | 0.2 | - | 0.8 | - | - | - | 0.6 |\n",
    "Fräsen | 0.05 | 0.03 | - | 0.07 | 0.1 | - | 0.08 |\n",
    "hobeln | - | - | 0.01 | - | 0.05 | - | 0.05 |"
   ]
  },
  {
   "cell_type": "markdown",
   "id": "c8d9dc3d",
   "metadata": {},
   "source": [
    "### Aber: Maschinen müssen gewartet werden!"
   ]
  },
  {
   "cell_type": "markdown",
   "id": "96538a53",
   "metadata": {},
   "source": [
    "| Monat | Maschine |\n",
    "|------:|---------:|\n",
    "| Jan | 1 Schleifer |\n",
    "| Feb | 2 h. Bohrer|\n",
    "| Mär | 1 Fräse |\n",
    "| Apr | 1 v. Bohrer|\n",
    "| Mai | 1 Schleifer + 1 v. Bohrer |\n",
    "| Jun | 1 h. Bohrer |\n"
   ]
  },
  {
   "cell_type": "markdown",
   "id": "ce5d1a4a",
   "metadata": {},
   "source": [
    "### Limits für Verkauf pro Monat:"
   ]
  },
  {
   "cell_type": "markdown",
   "id": "224dc17f",
   "metadata": {},
   "source": [
    "| Monat | Prod1 | Prod2 | Prod3 | Prod4 | Prod5 | Prod7 | Prod7\n",
    "|-----------:|:-----|:------|:------|:------|:------|:------|:------|\n",
    "Jan | 500 | 1000 | 300 | 300 | 800 | 200 | 100 |\n",
    "Feb | 600 | 500 | 200 | 0 | 400 | 300 | 150  |\n",
    "Mär | 300 | 600 | 0 | 0 | 500 | 400 | 100 |\n",
    "Apr | 200 | 300 | 400 | 500 | 200 | 0 | 100 |\n",
    "Mai | 0| 100 | 500 | 100 | 1000 | 300 | 0 |\n",
    "Jun | 500 | 500 | 100 | 300 | 1100 | 500 | 60 |\n"
   ]
  },
  {
   "cell_type": "markdown",
   "id": "62d4646f",
   "metadata": {},
   "source": [
    "### Lagerung: \n",
    "\n",
    "- 100 Einheiten pro Produkt\n",
    "- Kosten: 0.50 €\n",
    "- Januar: Lager leer\n",
    "- Juni: 50 Einheiten"
   ]
  },
  {
   "cell_type": "markdown",
   "id": "36b74f45",
   "metadata": {},
   "source": [
    "### Arbeit: \n",
    "    \n",
    "- 6 Tage / Woche, 2 * 8h Schicht\n",
    "- 24 Arbeitstage / Monat"
   ]
  },
  {
   "cell_type": "markdown",
   "id": "8c9ee03b",
   "metadata": {},
   "source": [
    "## Wie soll der Produktionsplan aussehen?"
   ]
  },
  {
   "cell_type": "markdown",
   "id": "f8624b24",
   "metadata": {},
   "source": [
    "# Mathematische modellierung"
   ]
  },
  {
   "cell_type": "markdown",
   "id": "a04f9df6",
   "metadata": {},
   "source": [
    "### Sets\n",
    "\n",
    "$T$ = Zeitdauer(Monate) -> $T_0$ = 1. Monat, $T_e$ = letzter \n",
    "\n",
    "$P$ = Produkte\n",
    "\n",
    "$M$ = Maschinen\n"
   ]
  },
  {
   "cell_type": "markdown",
   "id": "d85f2085",
   "metadata": {},
   "source": [
    "### Parameter"
   ]
  },
  {
   "cell_type": "markdown",
   "id": "493484e1",
   "metadata": {},
   "source": [
    "- Für jedes Produkt $p \\in P$ und Maschine $m \\in M$ ist die Zeit $f_{p,m}$ gegeben, in der das Produkt in der Maschine bearbeitet wird\n",
    "- Für jeden Monat $t \\in T$ und jedes Produkt $p \\in P$ gibt es ein Limit $l_{t,p}$, wie oft es Verkauft werden kann\n",
    "- Für jedes Produkt $p \\in P$ gibt es einen Profit $k_p$\n",
    "- Für jeden Monat $t \\in T$ und jede Maschine $m \\in M$ gibt es eine Anzahl an verfügbaren Maschinen $q_{t,m}$\n",
    "- Jede Maschine arbeitet $h$ Stunden im Monat\n",
    "- Es können $z$ Einheiten von jedem Produkt für die Kosten $r$ pro Monat gelagert werden \n",
    "\n"
   ]
  },
  {
   "cell_type": "markdown",
   "id": "c9d5c0b7",
   "metadata": {},
   "source": [
    "### Variablen\n",
    "\n",
    "Für jeden Monat $t$ und Produkt $p$ werden folgende nichtnegative Variablen eingeführt: $b_{t,p} , u_{t,p} , s_{t,p}$.\n",
    "\n",
    "- $b_{t,p}$ beschreibt die Produktionsanzahl eines Produkts pro Monat\n",
    "- $u_{t,p}$ beschreibt die Verkaufsanzahl eines Produktes pro Monat\n",
    "- $s_{t,p}$ beschreibt die Lageranzahl eines Produktes pro Monat\n",
    "\n"
   ]
  },
  {
   "cell_type": "markdown",
   "id": "0fa1c707",
   "metadata": {},
   "source": [
    "### Objective funktion\n",
    "\n",
    "**Objective/ Ziel: Maximaler Profit**\n",
    "\n",
    "$max \\sum_\\limits{t\\in T} \\sum_\\limits{p\\in P} (k_p * u_{t,p} - r * s_{t,p})$"
   ]
  },
  {
   "cell_type": "markdown",
   "id": "f7a25912",
   "metadata": {},
   "source": [
    "### Constraints\n",
    "\n",
    "\n",
    "$s_{t-q,p} + b_{t,p} = u_{t,p} + s_{t,p} \\forall t \\in T \\ t_0, \\forall p \\in P$\n",
    "\n",
    "$b_{t_0,p} = u_{t_0,p} + s_{t_0,p} \\forall p \\in P$\n",
    "\n",
    "\"Balance Constraints\": Es können nur so viele Produkte gekauft($u_{t,p}$) und eingelagert($s_{t,p}$) werden, wie im Vorherigen Monat gelagert($s_{t-q,p}$) waren und in diesem Monat produziert($b_{t,p}$) wurden.\n",
    "\n",
    "\n",
    "$s_{t_e,p} = z \\forall p \\in P$\n",
    "\n",
    "\"Endstore Constraints\": Am Ende des letzten Monats muss das Lageranzahl($s_{t_e,p}$) für jedes Produkt dem maximalen Lagerplatz($z$) entsprechen  \n",
    "\n",
    "\n",
    "$s_{t,p} \\leq z \\forall p \\in P, \\forall t \\in T$\n",
    "\n",
    "\"Store Capacity Constraints\": Es es können nich mehr Produkte eingelagert werden($s_{t,p}$), als es Lagerplatz($z$) gibt.\n",
    "\n",
    "\n",
    "$ \\sum_\\limits{p\\in P} f_{p,m} * b_{t,p} \\leq h * q_{t,m} \\forall t \\in T, \\forall m \\in M$\n",
    "\n",
    "\"Capacity Constraints\": Die Zeit in der alle Produkte an den jeweiligen Maschinen produziert werden muss kleiner sein als die Gesamtarbeitszeit($h$) aller verfügbaren Maschinen($q_{t,m}$)"
   ]
  },
  {
   "cell_type": "markdown",
   "id": "54228568",
   "metadata": {},
   "source": [
    "# code!!"
   ]
  },
  {
   "cell_type": "code",
   "execution_count": 1,
   "id": "cd892633",
   "metadata": {},
   "outputs": [],
   "source": [
    "from gurobipy import *"
   ]
  },
  {
   "cell_type": "code",
   "execution_count": 2,
   "id": "f075fe46",
   "metadata": {},
   "outputs": [],
   "source": [
    "products = [\"Prod1\", \"Prod2\", \"Prod3\", \"Prod4\", \"Prod5\", \"Prod6\", \"Prod7\"]\n",
    "months = [\"Jan\", \"Feb\", \"Mar\", \"Apr\", \"May\", \"Jun\"]\n",
    "machines = [\"Schleifer\", \"vBohrer\", \"hBohrer\", \"Fräse\",\"Hobel\"]"
   ]
  },
  {
   "cell_type": "code",
   "execution_count": 3,
   "id": "726e3d66",
   "metadata": {},
   "outputs": [],
   "source": [
    "profit = {\"Prod1\": 10,\n",
    "          \"Prod2\": 6,\n",
    "          \"Prod3\": 8,\n",
    "          \"Prod4\": 4,\n",
    "          \"Prod5\": 11,\n",
    "          \"Prod6\": 9,\n",
    "          \"Prod7\": 3,}"
   ]
  },
  {
   "cell_type": "code",
   "execution_count": 4,
   "id": "8dab1361",
   "metadata": {},
   "outputs": [],
   "source": [
    "qMachine = {\"Schleifer\": 4,\n",
    "            \"vBohrer\": 2,\n",
    "            \"hBohrer\": 3,\n",
    "            \"Fräse\": 1,\n",
    "            \"Hobel\": 1,}"
   ]
  },
  {
   "cell_type": "code",
   "execution_count": 5,
   "id": "90929f46",
   "metadata": {},
   "outputs": [],
   "source": [
    "time_table = {\"Schleifer\":{  \"Prod1\": 0.5,\n",
    "                             \"Prod2\": 0.7,\n",
    "                             \"Prod5\": 0.3,\n",
    "                             \"Prod6\": 0.2,\n",
    "                             \"Prod7\": 0.3,},\n",
    "           \n",
    "              \"vBohrer\":{  \"Prod1\": 0.1,\n",
    "                             \"Prod2\": 0.2,\n",
    "                             \"Prod4\": 0.3,\n",
    "                             \"Prod6\": 0.6,},\n",
    "           \n",
    "              \"hBohrer\":{  \"Prod1\": 0.2,\n",
    "                             \"Prod3\": 0.8,\n",
    "                             \"Prod7\": 0.6,},\n",
    "           \n",
    "              \"Fräse\":{      \"Prod1\": 0.05,\n",
    "                             \"Prod2\": 0.03,\n",
    "                             \"Prod4\": 0.07,\n",
    "                             \"Prod5\": 0.1,\n",
    "                             \"Prod7\": 0.08,},\n",
    "           \n",
    "              \"Hobel\":{      \"Prod3\": 0.01,\n",
    "                             \"Prod5\": 0.05,\n",
    "                             \"Prod7\": 0.05,},}"
   ]
  },
  {
   "cell_type": "code",
   "execution_count": 6,
   "id": "20cada78",
   "metadata": {},
   "outputs": [],
   "source": [
    "down = {(\"Jan\",\"Schleifer\"): 1,\n",
    "        (\"Feb\",\"hBohrer\"): 2,\n",
    "        (\"Mar\",\"Fräse\"): 1,\n",
    "        (\"Apr\",\"vBohrer\"): 1,\n",
    "        (\"May\",\"Schleifer\"): 1,\n",
    "        (\"May\",\"vBohrer\"): 1,\n",
    "        (\"Jun\",\"Hobel\"): 1,\n",
    "        (\"Jun\",\"hBohrer\"): 1,}"
   ]
  },
  {
   "cell_type": "code",
   "execution_count": 7,
   "id": "132b350c",
   "metadata": {},
   "outputs": [],
   "source": [
    "limit_dict = { \"Jan\":{  \"Prod1\": 500,\n",
    "                        \"Prod2\": 1000,\n",
    "                        \"Prod3\": 300,\n",
    "                        \"Prod4\": 300,\n",
    "                        \"Prod5\": 800,\n",
    "                        \"Prod6\": 200,\n",
    "                        \"Prod7\": 100,},\n",
    "         \n",
    "              \"Feb\":{   \"Prod1\": 600,\n",
    "                        \"Prod2\": 500,\n",
    "                        \"Prod3\": 200,\n",
    "                        \"Prod4\": 0,\n",
    "                        \"Prod5\": 400,\n",
    "                        \"Prod6\": 300,\n",
    "                        \"Prod7\": 150,},\n",
    "\n",
    "                \"Mar\":{ \"Prod1\": 300,\n",
    "                        \"Prod2\": 600,\n",
    "                        \"Prod3\": 0,\n",
    "                        \"Prod4\": 0,\n",
    "                        \"Prod5\": 500,\n",
    "                        \"Prod6\": 400,\n",
    "                        \"Prod7\": 400,},\n",
    "\n",
    "                \"Apr\":{ \"Prod1\": 200,\n",
    "                        \"Prod2\": 300,\n",
    "                        \"Prod3\": 400,\n",
    "                        \"Prod4\": 500,\n",
    "                        \"Prod5\": 200,\n",
    "                        \"Prod6\": 0,\n",
    "                        \"Prod7\": 100,},\n",
    "\n",
    "                \"May\":{ \"Prod1\": 0,\n",
    "                        \"Prod2\": 100,\n",
    "                        \"Prod3\": 500,\n",
    "                        \"Prod4\": 100,\n",
    "                        \"Prod5\": 1000,\n",
    "                        \"Prod6\": 300,\n",
    "                        \"Prod7\": 0,},\n",
    "\n",
    "                \"Jun\":{ \"Prod1\": 500,\n",
    "                        \"Prod2\": 500,\n",
    "                        \"Prod3\": 100,\n",
    "                        \"Prod4\": 300,\n",
    "                        \"Prod5\": 1100,\n",
    "                        \"Prod6\": 500,\n",
    "                        \"Prod7\": 60,},\n",
    "    \n",
    "}\n",
    "\n",
    "limit = { (month , product) : limit_dict[month][product] for month in  months for product in products }"
   ]
  },
  {
   "cell_type": "code",
   "execution_count": 8,
   "id": "3e42fb36",
   "metadata": {},
   "outputs": [],
   "source": [
    "storeCost = 0.5\n",
    "storeCapacity = 100\n",
    "endStock = 50\n",
    "hoursPerMonth = 2*8*24"
   ]
  },
  {
   "cell_type": "code",
   "execution_count": 9,
   "id": "8d20d176",
   "metadata": {},
   "outputs": [
    {
     "name": "stdout",
     "output_type": "stream",
     "text": [
      "Academic license - for non-commercial use only - expires 2021-07-26\n",
      "Using license file C:\\Users\\tomwa\\gurobi.lic\n"
     ]
    }
   ],
   "source": [
    "model = Model('Factory')"
   ]
  },
  {
   "cell_type": "code",
   "execution_count": 10,
   "id": "622292c7",
   "metadata": {},
   "outputs": [],
   "source": [
    "manu = model.addVars(months, products, name = \"manu\")\n",
    "held = model.addVars(months, products, name = \"held\", ub = storeCapacity)\n",
    "sell = model.addVars(months, products, name = \"sell\", ub = limit)"
   ]
  },
  {
   "cell_type": "code",
   "execution_count": 11,
   "id": "7b5dcfff",
   "metadata": {},
   "outputs": [],
   "source": [
    "model.addConstrs((manu[months[0], product] == sell[months[0], product] \n",
    "                  + held[months[0], product] for product in products), name=\"balance\")\n",
    "   \n",
    "model.addConstrs((held[months[month_index-1], product] + \n",
    "                 manu[month, product] == sell[month, product] + held[month, product] \n",
    "                 for product in products for month_index, month in enumerate(months) \n",
    "                 if month != months[0]), name=\"balance\");"
   ]
  },
  {
   "cell_type": "code",
   "execution_count": 12,
   "id": "10e01913",
   "metadata": {},
   "outputs": [],
   "source": [
    "model.addConstrs((held[months[-1], product] == endStock for product in products),  name=\"End_Balance\");"
   ]
  },
  {
   "cell_type": "code",
   "execution_count": 13,
   "id": "e3af0e3c",
   "metadata": {},
   "outputs": [],
   "source": [
    "model.addConstrs((quicksum(time_table[machine][product] * manu[month, product] \n",
    "    for product in time_table[machine]) <= hoursPerMonth * (qMachine[machine] - \n",
    "    down[month, machine]) for machine in machines for month in months \n",
    "    if (month, machine) in down), name = \"Capacity\")\n",
    "\n",
    "model.addConstrs((quicksum(time_table[machine][product] * manu[month, product] \n",
    "    for product in time_table[machine]) <= hoursPerMonth * qMachine[machine] \n",
    "    for machine in machines for month in months \n",
    "    if (month, machine) not in down), name = \"Capacity\");"
   ]
  },
  {
   "cell_type": "code",
   "execution_count": 14,
   "id": "0aa0104d",
   "metadata": {},
   "outputs": [],
   "source": [
    "obj = quicksum(\n",
    "    profit[product] * sell[month, product] - storeCost * held[month, product]\n",
    "    for month in months\n",
    "    for product in products\n",
    ")\n",
    "\n",
    "model.setObjective(obj, GRB.MAXIMIZE)"
   ]
  },
  {
   "cell_type": "code",
   "execution_count": 15,
   "id": "95cae28b",
   "metadata": {},
   "outputs": [
    {
     "name": "stdout",
     "output_type": "stream",
     "text": [
      "Gurobi Optimizer version 9.1.2 build v9.1.2rc0 (win64)\n",
      "Thread count: 2 physical cores, 4 logical processors, using up to 4 threads\n",
      "Optimize a model with 79 rows, 126 columns and 288 nonzeros\n",
      "Model fingerprint: 0x02693597\n",
      "Coefficient statistics:\n",
      "  Matrix range     [1e-02, 1e+00]\n",
      "  Objective range  [5e-01, 1e+01]\n",
      "  Bounds range     [6e+01, 1e+03]\n",
      "  RHS range        [5e+01, 2e+03]\n",
      "Presolve removed 74 rows and 109 columns\n",
      "Presolve time: 0.01s\n",
      "Presolved: 5 rows, 17 columns, 22 nonzeros\n",
      "\n",
      "Iteration    Objective       Primal Inf.    Dual Inf.      Time\n",
      "       0    1.2466500e+05   3.640000e+02   0.000000e+00      0s\n",
      "Extra simplex iterations after uncrush: 2\n",
      "       4    9.3758036e+04   0.000000e+00   0.000000e+00      0s\n",
      "\n",
      "Solved in 4 iterations and 0.01 seconds\n",
      "Optimal objective  9.375803571e+04\n"
     ]
    }
   ],
   "source": [
    "model.optimize()"
   ]
  },
  {
   "cell_type": "code",
   "execution_count": 16,
   "id": "70d63ee5",
   "metadata": {},
   "outputs": [
    {
     "name": "stdout",
     "output_type": "stream",
     "text": [
      "\n",
      "    Variable            X \n",
      "-------------------------\n",
      "manu[Jan,Prod1]          500 \n",
      "manu[Jan,Prod2]      845.714 \n",
      "manu[Jan,Prod3]        382.5 \n",
      "manu[Jan,Prod4]          300 \n",
      "manu[Jan,Prod5]          800 \n",
      "manu[Jan,Prod6]          200 \n",
      "manu[Jan,Prod7]          100 \n",
      "manu[Feb,Prod1]          700 \n",
      "manu[Feb,Prod2]          600 \n",
      "manu[Feb,Prod3]        117.5 \n",
      "manu[Feb,Prod5]          500 \n",
      "manu[Feb,Prod6]          300 \n",
      "manu[Feb,Prod7]          250 \n",
      "manu[Mar,Prod6]          400 \n",
      "manu[Apr,Prod1]          200 \n",
      "manu[Apr,Prod2]          300 \n",
      "manu[Apr,Prod3]          400 \n",
      "manu[Apr,Prod4]          500 \n",
      "manu[Apr,Prod5]          200 \n",
      "manu[Apr,Prod7]          100 \n",
      "manu[May,Prod2]          100 \n",
      "manu[May,Prod3]          600 \n",
      "manu[May,Prod4]          100 \n",
      "manu[May,Prod5]         1100 \n",
      "manu[May,Prod6]          300 \n",
      "manu[May,Prod7]          100 \n",
      "manu[Jun,Prod1]          550 \n",
      "manu[Jun,Prod2]          550 \n",
      "manu[Jun,Prod4]          350 \n",
      "manu[Jun,Prod6]          550 \n",
      "held[Jan,Prod3]         82.5 \n",
      "held[Feb,Prod1]          100 \n",
      "held[Feb,Prod2]          100 \n",
      "held[Feb,Prod5]          100 \n",
      "held[Feb,Prod7]          100 \n",
      "held[May,Prod3]          100 \n",
      "held[May,Prod5]          100 \n",
      "held[May,Prod7]          100 \n",
      "held[Jun,Prod1]           50 \n",
      "held[Jun,Prod2]           50 \n",
      "held[Jun,Prod3]           50 \n",
      "held[Jun,Prod4]           50 \n",
      "held[Jun,Prod5]           50 \n",
      "held[Jun,Prod6]           50 \n",
      "held[Jun,Prod7]           50 \n",
      "sell[Jan,Prod1]          500 \n",
      "sell[Jan,Prod2]      845.714 \n",
      "sell[Jan,Prod3]          300 \n",
      "sell[Jan,Prod4]          300 \n",
      "sell[Jan,Prod5]          800 \n",
      "sell[Jan,Prod6]          200 \n",
      "sell[Jan,Prod7]          100 \n",
      "sell[Feb,Prod1]          600 \n",
      "sell[Feb,Prod2]          500 \n",
      "sell[Feb,Prod3]          200 \n",
      "sell[Feb,Prod5]          400 \n",
      "sell[Feb,Prod6]          300 \n",
      "sell[Feb,Prod7]          150 \n",
      "sell[Mar,Prod1]          100 \n",
      "sell[Mar,Prod2]          100 \n",
      "sell[Mar,Prod5]          100 \n",
      "sell[Mar,Prod6]          400 \n",
      "sell[Mar,Prod7]          100 \n",
      "sell[Apr,Prod1]          200 \n",
      "sell[Apr,Prod2]          300 \n",
      "sell[Apr,Prod3]          400 \n",
      "sell[Apr,Prod4]          500 \n",
      "sell[Apr,Prod5]          200 \n",
      "sell[Apr,Prod7]          100 \n",
      "sell[May,Prod2]          100 \n",
      "sell[May,Prod3]          500 \n",
      "sell[May,Prod4]          100 \n",
      "sell[May,Prod5]         1000 \n",
      "sell[May,Prod6]          300 \n",
      "sell[Jun,Prod1]          500 \n",
      "sell[Jun,Prod2]          500 \n",
      "sell[Jun,Prod3]           50 \n",
      "sell[Jun,Prod4]          300 \n",
      "sell[Jun,Prod5]           50 \n",
      "sell[Jun,Prod6]          500 \n",
      "sell[Jun,Prod7]           50 \n"
     ]
    }
   ],
   "source": [
    "model.printAttr('X')"
   ]
  },
  {
   "cell_type": "code",
   "execution_count": 17,
   "id": "bc44a451",
   "metadata": {},
   "outputs": [
    {
     "data": {
      "text/html": [
       "<h1>Production plan</h1><table><tr><td></td><td><b>Manufacture</b></td><td><b>Sell</b></td><td><b>Hold</b></td></tr><tr><td><b>Jan</b></td><td style='text-align: right'><b>500.0</b> units of <b>Prod1</b><br/><b>845.7</b> units of <b>Prod2</b><br/><b>382.5</b> units of <b>Prod3</b><br/><b>300.0</b> units of <b>Prod4</b><br/><b>800.0</b> units of <b>Prod5</b><br/><b>200.0</b> units of <b>Prod6</b><br/><b>100.0</b> units of <b>Prod7</b><br/></td><td style='text-align: right'><b>500.0</b> units of <b>Prod1</b><br/><b>845.7</b> units of <b>Prod2</b><br/><b>300.0</b> units of <b>Prod3</b><br/><b>300.0</b> units of <b>Prod4</b><br/><b>800.0</b> units of <b>Prod5</b><br/><b>200.0</b> units of <b>Prod6</b><br/><b>100.0</b> units of <b>Prod7</b><br/></td><td style='text-align: right'><b>82.5</b> units of <b>Prod3</b><br/></td></tr><tr><td><b>Feb</b></td><td style='text-align: right'><b>700.0</b> units of <b>Prod1</b><br/><b>600.0</b> units of <b>Prod2</b><br/><b>117.5</b> units of <b>Prod3</b><br/><b>500.0</b> units of <b>Prod5</b><br/><b>300.0</b> units of <b>Prod6</b><br/><b>250.0</b> units of <b>Prod7</b><br/></td><td style='text-align: right'><b>600.0</b> units of <b>Prod1</b><br/><b>500.0</b> units of <b>Prod2</b><br/><b>200.0</b> units of <b>Prod3</b><br/><b>400.0</b> units of <b>Prod5</b><br/><b>300.0</b> units of <b>Prod6</b><br/><b>150.0</b> units of <b>Prod7</b><br/></td><td style='text-align: right'><b>100.0</b> units of <b>Prod1</b><br/><b>100.0</b> units of <b>Prod2</b><br/><b>100.0</b> units of <b>Prod5</b><br/><b>100.0</b> units of <b>Prod7</b><br/></td></tr><tr><td><b>Mar</b></td><td style='text-align: right'><b>400.0</b> units of <b>Prod6</b><br/></td><td style='text-align: right'><b>100.0</b> units of <b>Prod1</b><br/><b>100.0</b> units of <b>Prod2</b><br/><b>100.0</b> units of <b>Prod5</b><br/><b>400.0</b> units of <b>Prod6</b><br/><b>100.0</b> units of <b>Prod7</b><br/></td><td style='text-align: right'></td></tr><tr><td><b>Apr</b></td><td style='text-align: right'><b>200.0</b> units of <b>Prod1</b><br/><b>300.0</b> units of <b>Prod2</b><br/><b>400.0</b> units of <b>Prod3</b><br/><b>500.0</b> units of <b>Prod4</b><br/><b>200.0</b> units of <b>Prod5</b><br/><b>100.0</b> units of <b>Prod7</b><br/></td><td style='text-align: right'><b>200.0</b> units of <b>Prod1</b><br/><b>300.0</b> units of <b>Prod2</b><br/><b>400.0</b> units of <b>Prod3</b><br/><b>500.0</b> units of <b>Prod4</b><br/><b>200.0</b> units of <b>Prod5</b><br/><b>100.0</b> units of <b>Prod7</b><br/></td><td style='text-align: right'></td></tr><tr><td><b>May</b></td><td style='text-align: right'><b>100.0</b> units of <b>Prod2</b><br/><b>600.0</b> units of <b>Prod3</b><br/><b>100.0</b> units of <b>Prod4</b><br/><b>1100.0</b> units of <b>Prod5</b><br/><b>300.0</b> units of <b>Prod6</b><br/><b>100.0</b> units of <b>Prod7</b><br/></td><td style='text-align: right'><b>100.0</b> units of <b>Prod2</b><br/><b>500.0</b> units of <b>Prod3</b><br/><b>100.0</b> units of <b>Prod4</b><br/><b>1000.0</b> units of <b>Prod5</b><br/><b>300.0</b> units of <b>Prod6</b><br/></td><td style='text-align: right'><b>100.0</b> units of <b>Prod3</b><br/><b>100.0</b> units of <b>Prod5</b><br/><b>100.0</b> units of <b>Prod7</b><br/></td></tr><tr><td><b>Jun</b></td><td style='text-align: right'><b>550.0</b> units of <b>Prod1</b><br/><b>550.0</b> units of <b>Prod2</b><br/><b>350.0</b> units of <b>Prod4</b><br/><b>550.0</b> units of <b>Prod6</b><br/></td><td style='text-align: right'><b>500.0</b> units of <b>Prod1</b><br/><b>500.0</b> units of <b>Prod2</b><br/><b>50.0</b> units of <b>Prod3</b><br/><b>300.0</b> units of <b>Prod4</b><br/><b>50.0</b> units of <b>Prod5</b><br/><b>500.0</b> units of <b>Prod6</b><br/><b>50.0</b> units of <b>Prod7</b><br/></td><td style='text-align: right'><b>50.0</b> units of <b>Prod1</b><br/><b>50.0</b> units of <b>Prod2</b><br/><b>50.0</b> units of <b>Prod3</b><br/><b>50.0</b> units of <b>Prod4</b><br/><b>50.0</b> units of <b>Prod5</b><br/><b>50.0</b> units of <b>Prod6</b><br/><b>50.0</b> units of <b>Prod7</b><br/></td></tr></table>"
      ],
      "text/plain": [
       "<IPython.core.display.HTML object>"
      ]
     },
     "metadata": {},
     "output_type": "display_data"
    }
   ],
   "source": [
    "output = \"<h1>Production plan</h1><table><tr><td></td><td><b>Manufacture</b></td><td><b>Sell</b></td><td><b>Hold</b></td></tr>\"\n",
    "\n",
    "for month in months:\n",
    "\n",
    "    output += \"<tr><td><b>{}</b></td><td style='text-align: right'>\".format(month)\n",
    "    \n",
    "    # Manufacture\n",
    "    for product in products:\n",
    "        if manu[month, product].X > 0:\n",
    "            output += \"<b>{:.1f}</b> units of <b>{}</b><br/>\".format(manu[month, product].X, product)\n",
    "      \n",
    "    # Sell\n",
    "    output += \"</td><td style='text-align: right'>\"\n",
    "    for product in products:\n",
    "        if sell[month, product].X > 0:\n",
    "            output += \"<b>{:.1f}</b> units of <b>{}</b><br/>\".format(sell[month, product].X, product)\n",
    "            \n",
    "    # Hold\n",
    "    output += \"</td><td style='text-align: right'>\"\n",
    "    for product in products:\n",
    "        if held[month, product].X > 0:\n",
    "            output += \"<b>{:.1f}</b> units of <b>{}</b><br/>\".format(held[month, product].X, product)\n",
    "            \n",
    "    output += \"</td></tr>\"\n",
    "    \n",
    "output += \"</table>\"\n",
    "\n",
    "from IPython.display import HTML, display\n",
    "display(HTML(output))"
   ]
  }
 ],
 "metadata": {
  "kernelspec": {
   "display_name": "Python 3",
   "language": "python",
   "name": "python3"
  },
  "language_info": {
   "codemirror_mode": {
    "name": "ipython",
    "version": 3
   },
   "file_extension": ".py",
   "mimetype": "text/x-python",
   "name": "python",
   "nbconvert_exporter": "python",
   "pygments_lexer": "ipython3",
   "version": "3.8.8"
  }
 },
 "nbformat": 4,
 "nbformat_minor": 5
}
