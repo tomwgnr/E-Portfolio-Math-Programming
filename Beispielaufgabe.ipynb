{
 "cells": [
  {
   "cell_type": "markdown",
   "id": "16f5b541",
   "metadata": {},
   "source": [
    "# Beispielaufgabe"
   ]
  },
  {
   "cell_type": "markdown",
   "id": "a819d779",
   "metadata": {},
   "source": [
    "### Fabrik hat 7 Produkte für welche folgende Maschinen Verwendet werden:"
   ]
  },
  {
   "cell_type": "markdown",
   "id": "bbfc1700",
   "metadata": {},
   "source": [
    "- 4 Schleifer\n",
    "- 2 Vertikale Bohrer\n",
    "- 3 horizontale Bohrer\n",
    "- 1 Fräse\n",
    "- 1 Hobel"
   ]
  },
  {
   "cell_type": "markdown",
   "id": "8478afea",
   "metadata": {},
   "source": [
    "**Gewinn: Preis - Materialkosten**\n",
    "\n",
    "**Maschinen: Arbeitszeit (in h)**"
   ]
  },
  {
   "cell_type": "markdown",
   "id": "b4bfd4ac",
   "metadata": {},
   "source": [
    "|            | Prod1 | Prod2 | Prod3 | Prod4 | Prod5 | Prod7 | Prod7\n",
    "|-----------:|:-----|:------|:------|:------|:------|:------|:------|\n",
    "Gewinn | 10 | 6 | 8 | 4 | 11 | 9 | 3 |\n",
    "Schleifen | 0.5 | 0.7 | - | - | 0.3 | 0.2 | 0.5 |\n",
    "vertikal bohren | 0.1 | 0.2 | - | 0.3 | - | 0.6 | - |\n",
    "horizontal bohren | 0.2 | - | 0.8 | - | - | - | 0.6 |\n",
    "Fräsen | 0.05 | 0.03 | - | 0.07 | 0.1 | - | 0.08 |\n",
    "hobeln | - | - | 0.01 | - | 0.05 | - | 0.05 |"
   ]
  },
  {
   "cell_type": "markdown",
   "id": "c8d9dc3d",
   "metadata": {},
   "source": [
    "### Aber: Maschinen müssen gewartet werden!"
   ]
  },
  {
   "cell_type": "markdown",
   "id": "96538a53",
   "metadata": {},
   "source": [
    "| Monat | Maschine |\n",
    "|------:|---------:|\n",
    "| Jan | 1 Schleifer |\n",
    "| Feb | 2 h. Bohrer|\n",
    "| Mär | 1 Fräse |\n",
    "| Apr | 1 v. Bohrer|\n",
    "| Mai | 1 Schleifer + 1 v. Bohrer |\n",
    "| Jun | 1 h. Bohrer |\n"
   ]
  },
  {
   "cell_type": "markdown",
   "id": "ce5d1a4a",
   "metadata": {},
   "source": [
    "### Limits für Verkauf pro Monat:"
   ]
  },
  {
   "cell_type": "markdown",
   "id": "224dc17f",
   "metadata": {},
   "source": [
    "| Monat | Prod1 | Prod2 | Prod3 | Prod4 | Prod5 | Prod7 | Prod7\n",
    "|-----------:|:-----|:------|:------|:------|:------|:------|:------|\n",
    "Jan | 500 | 1000 | 300 | 300 | 800 | 200 | 100 |\n",
    "Feb | 600 | 500 | 200 | 0 | 400 | 300 | 150  |\n",
    "Mär | 300 | 600 | 0 | 0 | 500 | 400 | 100 |\n",
    "Apr | 200 | 300 | 400 | 500 | 200 | 0 | 100 |\n",
    "Mai | 0| 100 | 500 | 100 | 1000 | 300 | 0 |\n",
    "Jun | 500 | 500 | 100 | 300 | 1100 | 500 | 60 |\n"
   ]
  },
  {
   "cell_type": "markdown",
   "id": "62d4646f",
   "metadata": {},
   "source": [
    "### Lagerung: \n",
    "\n",
    "- 50 Einheiten pro Produkt\n",
    "- Kosten: 0.50 €\n",
    "- Januar: Lager leer\n",
    "- Juni: 50 Einheiten"
   ]
  },
  {
   "cell_type": "markdown",
   "id": "36b74f45",
   "metadata": {},
   "source": [
    "### Arbeit: \n",
    "    \n",
    "- 6 Tage / Woche, 2 * 8h Schicht\n",
    "- 24 Arbeitstage / Monat"
   ]
  },
  {
   "cell_type": "markdown",
   "id": "8c9ee03b",
   "metadata": {},
   "source": [
    "## Wie soll der Produktionsplan aussehen?"
   ]
  },
  {
   "cell_type": "markdown",
   "id": "f8624b24",
   "metadata": {},
   "source": [
    "# Mathematische modellierung"
   ]
  },
  {
   "cell_type": "markdown",
   "id": "a04f9df6",
   "metadata": {},
   "source": [
    "### Sets\n",
    "\n",
    "$T$ = Zeitdauer(Monate) -> $T_0$ = 1. Monat, $T_e$ = letzter \n",
    "\n",
    "$P$ = Produkte\n",
    "\n",
    "$M$ = Maschinen\n"
   ]
  },
  {
   "cell_type": "markdown",
   "id": "d85f2085",
   "metadata": {},
   "source": [
    "### Parameter"
   ]
  },
  {
   "cell_type": "markdown",
   "id": "493484e1",
   "metadata": {},
   "source": [
    "- Für jedes Produkt $p \\in P$ und Maschine $m \\in M$ ist die Zeit $f_{p,m}$ gegeben, in der das Produkt in der Maschine bearbeitet wird\n",
    "- Für jeden Monat $t \\in T$ und jedes Produkt $p \\in P$ gibt es ein Limit $l_{t,p}$, wie oft es Verkauft werden kann\n",
    "- Für jedes Produkt $p \\in P$ gibt es einen Profit $k_p$\n",
    "- Für jeden Monat $t \\in T$ und jede Maschine $m \\in M$ gibt es eine Anzahl an verfügbaren Maschinen $q_{t,m}$\n",
    "- Jede Maschine arbeitet $h$ Stunden im Monat\n",
    "- Es können $z$ Einheiten von jedem Produkt für die Kosten $r$ pro Monat gelagert werden \n",
    "\n"
   ]
  },
  {
   "cell_type": "markdown",
   "id": "c9d5c0b7",
   "metadata": {},
   "source": [
    "### Variablen\n",
    "\n",
    "Für jeden Monat $t$ und Produkt $p$ werden folgende nichtnegative Variablen eingeführt: $b_{t,p} , u_{t,p} , s_{t,p}$.\n",
    "\n",
    "- $b_{t,p}$ beschreibt die Produktionsanzahl eines Produkts pro Monat\n",
    "- $u_{t,p}$ beschreibt die Verkaufsanzahl eines Produktes pro Monat\n",
    "- $s_{t,p}$ beschreibt die Lageranzahl eines Produktes pro Monat\n",
    "\n"
   ]
  },
  {
   "cell_type": "markdown",
   "id": "0fa1c707",
   "metadata": {},
   "source": [
    "### Objective funktion\n",
    "\n",
    "**Objective/ Ziel: Maximaler Profit**\n",
    "\n",
    "$max \\sum_\\limits{t\\in T} \\sum_\\limits{p\\in P} (k_p * u_{t,p} - r * s_{t,p})$"
   ]
  },
  {
   "cell_type": "markdown",
   "id": "f7a25912",
   "metadata": {},
   "source": [
    "### Constraints\n",
    "\n",
    "\n",
    "$s_{t-q,p} + b_{t,p} = u_{t,p} + s_{t,p} \\forall t \\in T \\ t_0, \\forall p \\in P$\n",
    "\n",
    "$b_{t_0,p} = u_{t_0,p} + s_{t_0,p} \\forall p \\in P$\n",
    "\n",
    "\"Balance Constraints\": Es können nur so viele Produkte gekauft($u_{t,p}$) und eingelagert($s_{t,p}$) werden, wie im Vorherigen Monat gelagert($s_{t-q,p}$) waren und in diesem Monat produziert($b_{t,p}$) wurden.\n",
    "\n",
    "\n",
    "$s_{t_e,p} = z \\forall p \\in P$\n",
    "\n",
    "\"Endstore Constraints\": Am Ende des letzten Monats muss das Lageranzahl($s_{t_e,p}$) für jedes Produkt dem maximalen Lagerplatz($z$) entsprechen  \n",
    "\n",
    "\n",
    "$s_{t,p} \\leq z \\forall p \\in P, \\forall t \\in T$\n",
    "\n",
    "\"Store Capacity Constraints\": Es es können nich mehr Produkte eingelagert werden($s_{t,p}$), als es Lagerplatz($z$) gibt.\n",
    "\n",
    "\n",
    "$ \\sum_\\limits{p\\in P} f_{p,m} * b_{t,p} \\leq h * q_{t,m} \\forall t \\in T, \\forall m \\in M$\n",
    "\n",
    "\"Capacity Constraints\": Die Zeit in der alle Produkte an den jeweiligen Maschinen produziert werden muss kleiner sein als die Gesamtarbeitszeit($h$) aller verfügbaren Maschinen($q_{t,m}$)"
   ]
  },
  {
   "cell_type": "code",
   "execution_count": null,
   "id": "68c7f5a6",
   "metadata": {},
   "outputs": [],
   "source": []
  }
 ],
 "metadata": {
  "kernelspec": {
   "display_name": "Python 3",
   "language": "python",
   "name": "python3"
  },
  "language_info": {
   "codemirror_mode": {
    "name": "ipython",
    "version": 3
   },
   "file_extension": ".py",
   "mimetype": "text/x-python",
   "name": "python",
   "nbconvert_exporter": "python",
   "pygments_lexer": "ipython3",
   "version": "3.8.8"
  }
 },
 "nbformat": 4,
 "nbformat_minor": 5
}
